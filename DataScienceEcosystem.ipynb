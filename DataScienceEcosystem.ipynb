{
 "cells": [
  {
   "cell_type": "markdown",
   "id": "7bdd9bb4-7da2-4d96-8c0f-737cc8040577",
   "metadata": {},
   "source": [
    "# Data Science Tools and Ecosystem"
   ]
  },
  {
   "cell_type": "markdown",
   "id": "a15bc55b-120a-48b2-874e-60360eaf8369",
   "metadata": {},
   "source": [
    "In this notebook, Data Science Tools and Ecosystem are summarized.\n"
   ]
  },
  {
   "cell_type": "markdown",
   "id": "bcf0a5c9-82ad-4ce6-be77-9a3a083f7b33",
   "metadata": {},
   "source": [
    "Some of the popular languages that Data Scientists use are:\n",
    "    1. Python\n",
    "    2. R\n",
    "    3. SQL\n",
    "    4. Julia\n",
    "    5. Scala"
   ]
  },
  {
   "cell_type": "markdown",
   "id": "92a9e170-9ce5-4854-bb48-388d136ee613",
   "metadata": {},
   "source": [
    "Some of the commonly used libraries used by Data Scientists include:\n",
    "    - Numpy\n",
    "    - pandas\n",
    "    - Matplotlib\n",
    "    - Seaborn\n",
    "    - SciPy\n",
    "    - Scikit-learn\n",
    "    - Tensorflow\n",
    "    - Keras\n",
    "    - PyTorch"
   ]
  },
  {
   "cell_type": "markdown",
   "id": "d59ee9d4-797c-4fd5-8b04-57c058d29220",
   "metadata": {
    "tags": []
   },
   "source": [
    "| Data Science Tools  |\n",
    "|---------------------|\n",
    "| Jupyter Notebook     |\n",
    "| R studio             |\n",
    "|  VSCode with python   |"
   ]
  },
  {
   "cell_type": "markdown",
   "id": "5bc3bcea-071a-4920-b31e-a4b7b17bc163",
   "metadata": {},
   "source": [
    "### Below are a few examples of evaluating arithmetic expressions in Python\n"
   ]
  },
  {
   "cell_type": "code",
   "execution_count": 2,
   "id": "c84f832e-6367-4faf-bb44-7716ad62ebd0",
   "metadata": {
    "tags": []
   },
   "outputs": [
    {
     "data": {
      "text/plain": [
       "17"
      ]
     },
     "execution_count": 2,
     "metadata": {},
     "output_type": "execute_result"
    }
   ],
   "source": [
    "# This a simple arithmetic expression to mutiply then add integers\n",
    "result = (3*4)+5\n",
    "result"
   ]
  },
  {
   "cell_type": "code",
   "execution_count": 3,
   "id": "e541b8c4-f1db-4191-b9c2-b0270b5c861e",
   "metadata": {
    "tags": []
   },
   "outputs": [
    {
     "data": {
      "text/plain": [
       "3.3333333333333335"
      ]
     },
     "execution_count": 3,
     "metadata": {},
     "output_type": "execute_result"
    }
   ],
   "source": [
    "# This will convert 200 minutes to hours by diving by 60.\n",
    "minutes = 200\n",
    "hours = minutes / 60\n",
    "hours"
   ]
  },
  {
   "cell_type": "markdown",
   "id": "e95a4d49-c666-4aa7-a36b-c1b0eb3aee47",
   "metadata": {},
   "source": [
    "**Objectives:**\n",
    "-  List popular languages for Data Science\n",
    "- Identify commonly used libraries in Data Science.\n",
    "- Explore open-source Data science Tools.\n",
    "- Perform basic  operations in code cells.\n",
    "- Convert minutes to hours using python.\n",
    "\n"
   ]
  },
  {
   "cell_type": "markdown",
   "id": "9a426adf-0cbb-4bf9-8f1d-71ceb3975cca",
   "metadata": {},
   "source": [
    "## Author\n",
    "Thoparam Usha"
   ]
  },
  {
   "cell_type": "code",
   "execution_count": null,
   "id": "2beb1ce7-135f-4e60-83e3-a4c69a8ff971",
   "metadata": {},
   "outputs": [],
   "source": []
  }
 ],
 "metadata": {
  "kernelspec": {
   "display_name": "Python",
   "language": "python",
   "name": "conda-env-python-py"
  },
  "language_info": {
   "codemirror_mode": {
    "name": "ipython",
    "version": 3
   },
   "file_extension": ".py",
   "mimetype": "text/x-python",
   "name": "python",
   "nbconvert_exporter": "python",
   "pygments_lexer": "ipython3",
   "version": "3.7.12"
  }
 },
 "nbformat": 4,
 "nbformat_minor": 5
}
